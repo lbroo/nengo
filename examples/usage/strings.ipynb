{
 "cells": [
  {
   "cell_type": "markdown",
   "metadata": {},
   "source": [
    "# String representations\n",
    "\n",
    "This should be an exhaustive list\n",
    "of the objects that can be created with Nengo,\n",
    "and their string representations."
   ]
  },
  {
   "cell_type": "code",
   "execution_count": 1,
   "metadata": {},
   "outputs": [],
   "source": [
    "import difflib\n",
    "\n",
    "import numpy as np\n",
    "\n",
    "import nengo"
   ]
  },
  {
   "cell_type": "markdown",
   "metadata": {},
   "source": [
    "## Core objects"
   ]
  },
  {
   "cell_type": "code",
   "execution_count": 2,
   "metadata": {},
   "outputs": [
    {
     "name": "stdout",
     "output_type": "stream",
     "text": [
      "  str(obj)\n",
      "============\n",
      "--- Network\n",
      "    <Network (unlabeled) at 0x7f37534ea668>\n",
      "    <Network \"net2\">\n",
      "--- Ensemble\n",
      "    <Ensemble (unlabeled) at 0x7f37534ea710>\n",
      "    <Ensemble \"b\">\n",
      "--- Probe\n",
      "    <Probe of 'decoded_output' of <Ensemble (unlabeled) at 0x7f37534ea710>>\n",
      "    <Probe of 'decoded_output' of <Ensemble \"b\">>\n",
      "--- Connection\n",
      "    <Connection from <Ensemble (unlabeled) at 0x7f37534ea710> to <Ensemble \"b\">>\n",
      "    <Connection from <Ensemble (unlabeled) at 0x7f37534ea710> to <Ensemble \"b\"> computing 'square'>\n",
      "--- Node\n",
      "    <Node (unlabeled) at 0x7f377c3d6d68>\n",
      "    <Node \"n2\">\n",
      "--- Neurons\n",
      "    <Neurons of <Ensemble (unlabeled) at 0x7f37534ea710>>\n",
      "--- ObjView\n",
      "    <Ensemble \"b\">[:1]\n",
      "\n",
      "  repr(obj)  \n",
      "=============\n",
      "--- Network\n",
      "    <Network (unlabeled) at 0x7f37534ea668>\n",
      "    <Network \"net2\" at 0x7f37534ea828>\n",
      "--- Ensemble\n",
      "    <Ensemble (unlabeled) at 0x7f37534ea710>\n",
      "    <Ensemble \"b\" at 0x7f37534ea898>\n",
      "--- Probe\n",
      "    <Probe at 0x7f37534ea9b0 of 'decoded_output' of <Ensemble (unlabeled) at 0x7f37534ea710>>\n",
      "    <Probe at 0x7f37534ea9e8 of 'decoded_output' of <Ensemble \"b\">>\n",
      "--- Connection\n",
      "    <Connection at 0x7f37534eaa20 from <Ensemble (unlabeled) at 0x7f37534ea710> to <Ensemble \"b\">>\n",
      "    <Connection at 0x7f37545a34e0 from <Ensemble (unlabeled) at 0x7f37534ea710> to <Ensemble \"b\"> computing 'square'>\n",
      "--- Node\n",
      "    <Node (unlabeled) at 0x7f377c3d6d68>\n",
      "    <Node \"n2\" at 0x7f377c3ee0b8>\n",
      "--- Neurons\n",
      "    <Neurons at 0x7f377f2c1c50 of <Ensemble (unlabeled) at 0x7f37534ea710>>\n",
      "--- ObjView\n",
      "    <Ensemble \"b\" at 0x7f37534ea898>[:1]\n"
     ]
    }
   ],
   "source": [
    "with nengo.Network() as net1:\n",
    "\n",
    "    a = nengo.Ensemble(100, 2)\n",
    "    with nengo.Network(label=\"net2\") as net2:\n",
    "        b = nengo.Ensemble(100, 2, label=\"b\")\n",
    "\n",
    "    ap = nengo.Probe(a)\n",
    "    bp = nengo.Probe(b)\n",
    "\n",
    "    c1 = nengo.Connection(a, b)\n",
    "    c2 = nengo.Connection(a, b, function=np.square)\n",
    "\n",
    "    n1 = nengo.Node(output=np.sin)\n",
    "    n2 = nengo.Node(output=np.cos, label=\"n2\")\n",
    "\n",
    "print(\"  str(obj)\")\n",
    "print(\"============\")\n",
    "print(\"--- Network\")\n",
    "print(\"    %s\" % net1)\n",
    "print(\"    %s\" % net2)\n",
    "print(\"--- Ensemble\")\n",
    "print(\"    %s\" % a)\n",
    "print(\"    %s\" % b)\n",
    "print(\"--- Probe\")\n",
    "print(\"    %s\" % ap)\n",
    "print(\"    %s\" % bp)\n",
    "print(\"--- Connection\")\n",
    "print(\"    %s\" % c1)\n",
    "print(\"    %s\" % c2)\n",
    "print(\"--- Node\")\n",
    "print(\"    %s\" % n1)\n",
    "print(\"    %s\" % n2)\n",
    "print(\"--- Neurons\")\n",
    "print(\"    %s\" % a.neurons)\n",
    "print(\"--- ObjView\")\n",
    "print(\"    %s\" % b[:1])\n",
    "print(\"\")\n",
    "\n",
    "print(\"  repr(obj)  \")\n",
    "print(\"=============\")\n",
    "print(\"--- Network\")\n",
    "print(\"    %r\" % net1)\n",
    "print(\"    %r\" % net2)\n",
    "print(\"--- Ensemble\")\n",
    "print(\"    %r\" % a)\n",
    "print(\"    %r\" % b)\n",
    "print(\"--- Probe\")\n",
    "print(\"    %r\" % ap)\n",
    "print(\"    %r\" % bp)\n",
    "print(\"--- Connection\")\n",
    "print(\"    %r\" % c1)\n",
    "print(\"    %r\" % c2)\n",
    "print(\"--- Node\")\n",
    "print(\"    %r\" % n1)\n",
    "print(\"    %r\" % n2)\n",
    "print(\"--- Neurons\")\n",
    "print(\"    %r\" % a.neurons)\n",
    "print(\"--- ObjView\")\n",
    "print(\"    %r\" % b[:1])"
   ]
  },
  {
   "cell_type": "markdown",
   "metadata": {},
   "source": [
    "## Neuron types"
   ]
  },
  {
   "cell_type": "code",
   "execution_count": 3,
   "metadata": {},
   "outputs": [
    {
     "name": "stdout",
     "output_type": "stream",
     "text": [
      "Direct()\n",
      "RectifiedLinear()\n",
      "Sigmoid()\n",
      "Sigmoid(tau_ref=0.001)\n",
      "LIFRate()\n",
      "LIFRate(tau_rc=0.01, tau_ref=0)\n",
      "LIF()\n",
      "LIF(tau_rc=0.01, tau_ref=0)\n",
      "AdaptiveLIFRate()\n",
      "AdaptiveLIFRate(tau_n=0.5, inc_n=0.02, tau_rc=0.01)\n",
      "AdaptiveLIF()\n",
      "AdaptiveLIF(tau_n=0.5, inc_n=0.02, tau_rc=0.01)\n",
      "Izhikevich()\n",
      "Izhikevich(tau_recovery=0.01, coupling=0.5, reset_voltage=-60, reset_recovery=6)\n"
     ]
    }
   ],
   "source": [
    "print(nengo.Direct())\n",
    "print(nengo.RectifiedLinear())\n",
    "print(nengo.Sigmoid())\n",
    "print(nengo.Sigmoid(tau_ref=0.001))\n",
    "print(nengo.LIFRate())\n",
    "print(nengo.LIFRate(tau_rc=0.01, tau_ref=0))\n",
    "print(nengo.LIF())\n",
    "print(nengo.LIF(tau_rc=0.01, tau_ref=0))\n",
    "print(nengo.AdaptiveLIFRate())\n",
    "print(nengo.AdaptiveLIFRate(tau_rc=0.01, tau_n=0.5, inc_n=0.02))\n",
    "print(nengo.AdaptiveLIF())\n",
    "print(nengo.AdaptiveLIF(tau_rc=0.01, tau_n=0.5, inc_n=0.02))\n",
    "print(nengo.Izhikevich())\n",
    "print(nengo.Izhikevich(\n",
    "    tau_recovery=0.01, coupling=0.5, reset_voltage=-60, reset_recovery=6))"
   ]
  },
  {
   "cell_type": "markdown",
   "metadata": {},
   "source": [
    "## Learning rules"
   ]
  },
  {
   "cell_type": "code",
   "execution_count": 4,
   "metadata": {},
   "outputs": [
    {
     "name": "stdout",
     "output_type": "stream",
     "text": [
      "PES()\n",
      "PES(learning_rate=1e-06, pre_synapse=Lowpass(tau=0.01))\n",
      "BCM()\n",
      "BCM(learning_rate=1e-08, pre_synapse=Lowpass(tau=0.01), post_synapse=Lowpass(tau=0.005), theta_synapse=Lowpass(tau=10.0))\n",
      "Oja()\n",
      "Oja(learning_rate=1e-05, pre_synapse=Lowpass(tau=0.01), post_synapse=Lowpass(tau=0.005), beta=0.5)\n",
      "Voja()\n",
      "Voja(learning_rate=1e-05, post_synapse=None)\n"
     ]
    }
   ],
   "source": [
    "print(nengo.PES())\n",
    "print(nengo.PES(learning_rate=1e-6, pre_synapse=0.01))\n",
    "print(nengo.BCM())\n",
    "print(nengo.BCM(learning_rate=1e-8,\n",
    "                pre_synapse=0.01,\n",
    "                post_synapse=0.005,\n",
    "                theta_synapse=10.0))\n",
    "print(nengo.Oja())\n",
    "print(nengo.Oja(\n",
    "    learning_rate=1e-5, pre_synapse=0.01, post_synapse=0.005, beta=0.5))\n",
    "print(nengo.Voja())\n",
    "print(nengo.Voja(learning_rate=1e-5, post_synapse=None))"
   ]
  },
  {
   "cell_type": "markdown",
   "metadata": {},
   "source": [
    "## Distributions"
   ]
  },
  {
   "cell_type": "code",
   "execution_count": 5,
   "metadata": {},
   "outputs": [
    {
     "name": "stdout",
     "output_type": "stream",
     "text": [
      "PDF(x=array([1., 2.]), p=array([0.4, 0.6]))\n",
      "Uniform(low=0, high=1)\n",
      "Uniform(low=0, high=5, integer=True)\n",
      "Gaussian(mean=1, std=0.1)\n",
      "UniformHypersphere()\n",
      "UniformHypersphere(surface=True)\n",
      "Choice(options=array([1., 2., 3.]))\n",
      "Choice(options=array([1., 2., 3.]), weights=array([0.1, 0.5, 0.4]))\n",
      "SqrtBeta(n=3)\n",
      "SqrtBeta(n=3, m=2)\n",
      "SubvectorLength(dimensions=3)\n"
     ]
    }
   ],
   "source": [
    "print(nengo.dists.PDF([1, 2], [0.4, 0.6]))\n",
    "print(nengo.dists.Uniform(0, 1))\n",
    "print(nengo.dists.Uniform(0, 5, integer=True))\n",
    "print(nengo.dists.Gaussian(1, 0.1))\n",
    "print(nengo.dists.UniformHypersphere())\n",
    "print(nengo.dists.UniformHypersphere(surface=True))\n",
    "print(nengo.dists.Choice([1, 2, 3]))\n",
    "print(nengo.dists.Choice([1, 2, 3], weights=[0.1, 0.5, 0.4]))\n",
    "print(nengo.dists.SqrtBeta(3))\n",
    "print(nengo.dists.SqrtBeta(3, 2))\n",
    "print(nengo.dists.SubvectorLength(3))"
   ]
  },
  {
   "cell_type": "markdown",
   "metadata": {},
   "source": [
    "## Synapses"
   ]
  },
  {
   "cell_type": "code",
   "execution_count": 6,
   "metadata": {},
   "outputs": [
    {
     "name": "stdout",
     "output_type": "stream",
     "text": [
      "Lowpass(tau=0.01)\n",
      "Alpha(tau=0.02)\n",
      "Triangle(t=0.03)\n",
      "LinearFilter(num=array([1.]), den=array([0.03, 1.  ]))\n"
     ]
    }
   ],
   "source": [
    "print(nengo.synapses.Lowpass(0.01))\n",
    "print(nengo.synapses.Alpha(0.02))\n",
    "print(nengo.synapses.Triangle(0.03))\n",
    "print(nengo.synapses.LinearFilter([1], [0.03, 1]))"
   ]
  },
  {
   "cell_type": "markdown",
   "metadata": {},
   "source": [
    "## Processes"
   ]
  },
  {
   "cell_type": "code",
   "execution_count": 7,
   "metadata": {},
   "outputs": [
    {
     "name": "stdout",
     "output_type": "stream",
     "text": [
      "WhiteNoise(Gaussian(mean=1, std=2), scale=False)\n",
      "FilteredNoise(synapse=Alpha(tau=0.2), dist=Gaussian(mean=1, std=2), scale=True)\n",
      "BrownNoise(Gaussian(mean=1, std=2))\n",
      "WhiteSignal(period=0.2, high=10, rms=0.3)\n"
     ]
    }
   ],
   "source": [
    "gaussian = nengo.dists.Gaussian(1, 2)\n",
    "print(nengo.processes.WhiteNoise(gaussian, scale=False))\n",
    "print(nengo.processes.FilteredNoise(nengo.synapses.Alpha(0.2), gaussian))\n",
    "print(nengo.processes.BrownNoise(gaussian))\n",
    "print(nengo.processes.WhiteSignal(0.2, 10, rms=0.3))"
   ]
  },
  {
   "cell_type": "markdown",
   "metadata": {},
   "source": [
    "## Signals"
   ]
  },
  {
   "cell_type": "code",
   "execution_count": 8,
   "metadata": {},
   "outputs": [
    {
     "name": "stdout",
     "output_type": "stream",
     "text": [
      "Signal(name=None, shape=(1,))\n",
      "Signal(name=one, shape=(2,))\n"
     ]
    }
   ],
   "source": [
    "print(nengo.builder.signal.Signal(np.array([0.])))\n",
    "print(nengo.builder.signal.Signal(np.array([1., 1.]), name=\"one\"))"
   ]
  },
  {
   "cell_type": "markdown",
   "metadata": {},
   "source": [
    "## Operators"
   ]
  },
  {
   "cell_type": "code",
   "execution_count": 9,
   "metadata": {},
   "outputs": [
    {
     "name": "stdout",
     "output_type": "stream",
     "text": [
      "TimeUpdate{}\n",
      "TimeUpdate{ \"tag\"}\n",
      "Reset{Signal(name=sig, shape=(1,))}\n",
      "Reset{Signal(name=sig, shape=(1,))  \"tag\"}\n",
      "Copy{Signal(name=sig, shape=(1,)) -> Signal(name=sig, shape=(1,)), inc=False}\n",
      "Copy{Signal(name=sig, shape=(1,)) -> Signal(name=sig, shape=(1,)), inc=False  \"tag\"}\n",
      "Copy{Signal(name=sig, shape=(1,))[[0]] -> Signal(name=sig[(slice(0, 1, None),)], shape=(1,)), inc=False}\n",
      "Copy{Signal(name=sig, shape=(1,))[[0]] -> Signal(name=sig[(slice(0, 1, None),)], shape=(1,)), inc=False  \"tag\"}\n",
      "ElementwiseInc{Signal(name=sig, shape=(1,)), Signal(name=sig, shape=(1,)) -> Signal(name=sig, shape=(1,))}\n",
      "ElementwiseInc{Signal(name=sig, shape=(1,)), Signal(name=sig, shape=(1,)) -> Signal(name=sig, shape=(1,))  \"tag\"}\n",
      "DotInc{Signal(name=sig, shape=(1,)), Signal(name=sig, shape=(1,)) -> Signal(name=sig, shape=(1,))}\n",
      "DotInc{Signal(name=sig, shape=(1,)), Signal(name=sig, shape=(1,)) -> Signal(name=sig, shape=(1,))  \"tag\"}\n",
      "SimPyFunc{Signal(name=sig, shape=(1,)) -> Signal(name=sig, shape=(1,)), fn='<lambda>'}\n",
      "SimPyFunc{Signal(name=sig, shape=(1,)) -> Signal(name=sig, shape=(1,)), fn='<lambda>'  \"tag\"}\n",
      "SimPES{pre=Signal(name=sig, shape=(1,)), error=Signal(name=sig, shape=(1,)) -> Signal(name=sig, shape=(1,))}\n",
      "SimPES{pre=Signal(name=sig, shape=(1,)), error=Signal(name=sig, shape=(1,)) -> Signal(name=sig, shape=(1,))  \"tag\"}\n",
      "SimBCM{pre=Signal(name=sig, shape=(1,)), post=Signal(name=sig, shape=(1,)) -> Signal(name=sig, shape=(1,))}\n",
      "SimBCM{pre=Signal(name=sig, shape=(1,)), post=Signal(name=sig, shape=(1,)) -> Signal(name=sig, shape=(1,))  \"tag\"}\n",
      "SimOja{pre=Signal(name=sig, shape=(1,)), post=Signal(name=sig, shape=(1,)) -> Signal(name=sig, shape=(1,))}\n",
      "SimOja{pre=Signal(name=sig, shape=(1,)), post=Signal(name=sig, shape=(1,)) -> Signal(name=sig, shape=(1,))  \"tag\"}\n",
      "SimNeurons{LIF(), Signal(name=sig, shape=(1,)), Signal(name=sig, shape=(1,))}\n",
      "SimNeurons{LIF(), Signal(name=sig, shape=(1,)), Signal(name=sig, shape=(1,))  \"tag\"}\n",
      "SimProcess{WhiteNoise(Gaussian(mean=0, std=1), scale=True), Signal(name=sig, shape=(1,)) -> Signal(name=sig, shape=(1,))}\n",
      "SimProcess{WhiteNoise(Gaussian(mean=0, std=1), scale=True), Signal(name=sig, shape=(1,)) -> Signal(name=sig, shape=(1,))  \"tag\"}\n"
     ]
    }
   ],
   "source": [
    "sig = nengo.builder.signal.Signal(np.array([0.]), name=\"sig\")\n",
    "print(nengo.builder.operator.TimeUpdate(sig, sig))\n",
    "print(nengo.builder.operator.TimeUpdate(sig, sig, tag=\"tag\"))\n",
    "print(nengo.builder.operator.Reset(sig))\n",
    "print(nengo.builder.operator.Reset(sig, tag=\"tag\"))\n",
    "print(nengo.builder.operator.Copy(sig, sig))\n",
    "print(nengo.builder.operator.Copy(sig, sig, tag=\"tag\"))\n",
    "print(nengo.builder.operator.Copy(sig, sig, [0], slice(0, 1)))\n",
    "print(nengo.builder.operator.Copy(sig, sig, [0], slice(0, 1), tag=\"tag\"))\n",
    "print(nengo.builder.operator.ElementwiseInc(sig, sig, sig))\n",
    "print(nengo.builder.operator.ElementwiseInc(sig, sig, sig, tag=\"tag\"))\n",
    "print(nengo.builder.operator.DotInc(sig, sig, sig))\n",
    "print(nengo.builder.operator.DotInc(sig, sig, sig, tag=\"tag\"))\n",
    "print(nengo.builder.operator.SimPyFunc(sig, lambda x: 0.0, True, sig))\n",
    "print(nengo.builder.operator.SimPyFunc(\n",
    "    sig, lambda x: 0.0, True, sig, tag=\"tag\"))\n",
    "print(nengo.builder.learning_rules.SimPES(sig, sig, sig, sig, 0.1))\n",
    "print(nengo.builder.learning_rules.SimPES(sig, sig, sig, sig, 0.1, tag=\"tag\"))\n",
    "print(nengo.builder.learning_rules.SimBCM(sig, sig, sig, sig, 0.1))\n",
    "print(nengo.builder.learning_rules.SimBCM(sig, sig, sig, sig, 0.1, tag=\"tag\"))\n",
    "print(nengo.builder.learning_rules.SimOja(sig, sig, sig, sig, 0.1, 1.0))\n",
    "print(nengo.builder.learning_rules.SimOja(\n",
    "    sig, sig, sig, sig, 0.1, 1.0, tag=\"tag\"))\n",
    "print(nengo.builder.neurons.SimNeurons(nengo.LIF(), sig, sig, [sig]))\n",
    "print(nengo.builder.neurons.SimNeurons(\n",
    "    nengo.LIF(), sig, sig, [sig], tag=\"tag\"))\n",
    "print(nengo.builder.processes.SimProcess(\n",
    "    nengo.processes.WhiteNoise(), sig, sig, sig))\n",
    "print(nengo.builder.processes.SimProcess(\n",
    "    nengo.processes.WhiteNoise(), sig, sig, sig, tag=\"tag\"))"
   ]
  },
  {
   "cell_type": "markdown",
   "metadata": {},
   "source": [
    "## Simulator\n",
    "\n",
    "The representation of the `Simulator`\n",
    "is not particularly illuminating,\n",
    "but you can get a detailed account of the `Simulator`\n",
    "by printing its sorted list of `Operator`s."
   ]
  },
  {
   "cell_type": "code",
   "execution_count": 10,
   "metadata": {},
   "outputs": [
    {
     "name": "stdout",
     "output_type": "stream",
     "text": [
      "  * Reset{Signal(name=merged<<Ensemble (unlabeled) at 0x7f37534ea710>.signal, ..., Dense(shape=(2, 2)).weighted>, shape=(6,))}\n",
      "  * Reset{Signal(name=merged<<Ensemble \"b\">.signal, ..., <Probe of 'decoded_output' of <Ensemble (unlabeled) at 0x7f37534ea710>>>, shape=(4,))}\n",
      "  * TimeUpdate{}\n",
      "  * Reset{Signal(name=merged<Dense(shape=(2, 2)).weighted.Lowpass(tau=0.005), ..., Dense(shape=(2, 2)).weighted>[(slice(2, 4, None),)], shape=(2,))}\n",
      "  * SimPyFunc{None -> Signal(name=<Node (unlabeled) at 0x7f377c3d6d68>.out, shape=(1,)), fn='sin'}\n",
      "  * SimPyFunc{None -> Signal(name=<Node \"n2\">.out, shape=(1,)), fn='cos'}\n",
      "  * Copy{Signal(name=Dense(shape=(2, 2)).weighted.Lowpass(tau=0.005), shape=(2,)) -> Signal(name=merged<<Ensemble \"b\">.signal, ..., <Probe of 'decoded_output' of <Ensemble (unlabeled) at 0x7f37534ea710>>>[(slice(0, 2, None),)], shape=(2,)), inc=True  \"<Connection from <Ensemble (unlabeled) at 0x7f37534ea710> to <Ensemble \"b\">>\"}\n",
      "  * Reset{Signal(name=merged<Dense(shape=(2, 2)).weighted, ..., Dense(shape=(2, 2)).weighted>, shape=(4,))}\n",
      "  * Copy{Signal(name=merged<<Ensemble \"b\">.bias, ..., <Ensemble (unlabeled) at 0x7f37534ea710>.bias>, shape=(200,)) -> Signal(name=merged<<Ensemble \"b\">.neuron_in, ..., <Ensemble (unlabeled) at 0x7f37534ea710>.neuron_in>, shape=(200,)), inc=False}\n",
      "  * DotInc{Signal(name=<Ensemble (unlabeled) at 0x7f37534ea710>.scaled_encoders, shape=(100, 2)), Signal(name=merged<<Ensemble (unlabeled) at 0x7f37534ea710>.signal, ..., Dense(shape=(2, 2)).weighted>[(slice(0, 2, None),)], shape=(2,)) -> Signal(name=merged<<Ensemble \"b\">.neuron_in, ..., <Ensemble (unlabeled) at 0x7f37534ea710>.neuron_in>[(slice(100, 200, None),)], shape=(100,))  \"<Ensemble (unlabeled) at 0x7f37534ea710> encoding\"}\n",
      "  * SimNeurons{LIF(), Signal(name=merged<<Ensemble \"b\">.neuron_in, ..., <Ensemble (unlabeled) at 0x7f37534ea710>.neuron_in>[(slice(100, 200, None),)], shape=(100,)), Signal(name=<Ensemble (unlabeled) at 0x7f37534ea710>.neuron_out, shape=(100,))}\n",
      "  * DotInc{Signal(name=merged<Dense(shape=(2, 2)).weights, ..., Dense(shape=(2, 2)).weights>, shape=(4, 100)), Signal(name=<Ensemble (unlabeled) at 0x7f37534ea710>.neuron_out, shape=(100,)) -> Signal(name=merged<Dense(shape=(2, 2)).weighted, ..., Dense(shape=(2, 2)).weighted>, shape=(4,))}\n",
      "  * SimProcess{Lowpass(tau=0.005), Signal(name=merged<Dense(shape=(2, 2)).weighted, ..., Dense(shape=(2, 2)).weighted>[(slice(0, 2, None),)], shape=(2,)) -> Signal(name=Dense(shape=(2, 2)).weighted.Lowpass(tau=0.005), shape=(2,))}\n",
      "  * DotInc{Signal(name=Dense(shape=(2, 2)).weights, shape=(2, 100)), Signal(name=<Ensemble (unlabeled) at 0x7f37534ea710>.neuron_out, shape=(100,)) -> Signal(name=merged<Dense(shape=(2, 2)).weighted.Lowpass(tau=0.005), ..., Dense(shape=(2, 2)).weighted>[(slice(2, 4, None),)], shape=(2,))  \"Dense(shape=(2, 2)).apply_weights\"}\n",
      "  * Copy{Signal(name=merged<Dense(shape=(2, 2)).weighted.Lowpass(tau=0.005), ..., Dense(shape=(2, 2)).weighted>, shape=(4,)) -> Signal(name=merged<<Ensemble \"b\">.signal, ..., <Probe of 'decoded_output' of <Ensemble (unlabeled) at 0x7f37534ea710>>>, shape=(4,)), inc=True}\n",
      "  * SimProcess{Lowpass(tau=0.005), Signal(name=merged<Dense(shape=(2, 2)).weighted, ..., Dense(shape=(2, 2)).weighted>[(slice(2, 4, None),)], shape=(2,)) -> Signal(name=merged<Dense(shape=(2, 2)).weighted.Lowpass(tau=0.005), ..., Dense(shape=(2, 2)).weighted>[(slice(0, 2, None),)], shape=(2,))}\n",
      "  * DotInc{Signal(name=<Ensemble \"b\">.scaled_encoders, shape=(100, 2)), Signal(name=merged<<Ensemble \"b\">.signal, ..., <Probe of 'decoded_output' of <Ensemble (unlabeled) at 0x7f37534ea710>>>[(slice(0, 2, None),)], shape=(2,)) -> Signal(name=merged<<Ensemble \"b\">.neuron_in, ..., <Ensemble (unlabeled) at 0x7f37534ea710>.neuron_in>[(slice(0, 100, None),)], shape=(100,))  \"<Ensemble \"b\"> encoding\"}\n",
      "  * SimNeurons{LIF(), Signal(name=merged<<Ensemble \"b\">.neuron_in, ..., <Ensemble (unlabeled) at 0x7f37534ea710>.neuron_in>[(slice(0, 100, None),)], shape=(100,)), Signal(name=<Ensemble \"b\">.neuron_out, shape=(100,))}\n",
      "  * DotInc{Signal(name=Dense(shape=(2, 2)).weights, shape=(2, 100)), Signal(name=<Ensemble \"b\">.neuron_out, shape=(100,)) -> Signal(name=merged<<Ensemble (unlabeled) at 0x7f37534ea710>.signal, ..., Dense(shape=(2, 2)).weighted>[(slice(4, 6, None),)], shape=(2,))  \"Dense(shape=(2, 2)).apply_weights\"}\n",
      "  * Copy{Signal(name=merged<<Ensemble (unlabeled) at 0x7f37534ea710>.signal, ..., Dense(shape=(2, 2)).weighted>[(slice(4, 6, None),)], shape=(2,)) -> Signal(name=merged<<Ensemble (unlabeled) at 0x7f37534ea710>.signal, ..., Dense(shape=(2, 2)).weighted>[(slice(2, 4, None),)], shape=(2,)), inc=True  \"<Connection from <Ensemble \"b\"> to <Probe of 'decoded_output' of <Ensemble \"b\">>>\"}\n"
     ]
    }
   ],
   "source": [
    "with nengo.Simulator(net1) as sim:\n",
    "    print('\\n'.join(\"  * %s\" % op for op in sim._step_order))"
   ]
  },
  {
   "cell_type": "markdown",
   "metadata": {},
   "source": [
    "The diff of two simulators' sorted ops tells us how two built models differ.\n",
    "We can use the `difflib` library (included with Python)\n",
    "to do a diff directly in Python."
   ]
  },
  {
   "cell_type": "code",
   "execution_count": 11,
   "metadata": {},
   "outputs": [
    {
     "name": "stdout",
     "output_type": "stream",
     "text": [
      "--- \n",
      "\n",
      "+++ \n",
      "\n",
      "@@ -1,20 +1,20 @@\n",
      "\n",
      "-Copy{Signal(name=Dense(shape=(2, 2)).weighted.Lowpass(tau=0.005), shape=(2,)) -> Signal(name=merged<<Ensemble \"b\">.signal, ..., <Probe of 'decoded_output' of <Ensemble (unlabeled) at 0x7f37534ea710>>>[(slice(0, 2, None),)], shape=(2,)), inc=True  \"<Connection from <Ensemble (unlabeled) at 0x7f37534ea710> to <Ensemble \"b\">>\"}\n",
      "-Copy{Signal(name=merged<<Ensemble \"b\">.bias, ..., <Ensemble (unlabeled) at 0x7f37534ea710>.bias>, shape=(200,)) -> Signal(name=merged<<Ensemble \"b\">.neuron_in, ..., <Ensemble (unlabeled) at 0x7f37534ea710>.neuron_in>, shape=(200,)), inc=False}\n",
      "-Copy{Signal(name=merged<<Ensemble (unlabeled) at 0x7f37534ea710>.signal, ..., Dense(shape=(2, 2)).weighted>[(slice(4, 6, None),)], shape=(2,)) -> Signal(name=merged<<Ensemble (unlabeled) at 0x7f37534ea710>.signal, ..., Dense(shape=(2, 2)).weighted>[(slice(2, 4, None),)], shape=(2,)), inc=True  \"<Connection from <Ensemble \"b\"> to <Probe of 'decoded_output' of <Ensemble \"b\">>>\"}\n",
      "-Copy{Signal(name=merged<Dense(shape=(2, 2)).weighted.Lowpass(tau=0.005), ..., Dense(shape=(2, 2)).weighted>, shape=(4,)) -> Signal(name=merged<<Ensemble \"b\">.signal, ..., <Probe of 'decoded_output' of <Ensemble (unlabeled) at 0x7f37534ea710>>>, shape=(4,)), inc=True}\n",
      "-DotInc{Signal(name=<Ensemble \"b\">.scaled_encoders, shape=(100, 2)), Signal(name=merged<<Ensemble \"b\">.signal, ..., <Probe of 'decoded_output' of <Ensemble (unlabeled) at 0x7f37534ea710>>>[(slice(0, 2, None),)], shape=(2,)) -> Signal(name=merged<<Ensemble \"b\">.neuron_in, ..., <Ensemble (unlabeled) at 0x7f37534ea710>.neuron_in>[(slice(0, 100, None),)], shape=(100,))  \"<Ensemble \"b\"> encoding\"}\n",
      "-DotInc{Signal(name=<Ensemble (unlabeled) at 0x7f37534ea710>.scaled_encoders, shape=(100, 2)), Signal(name=merged<<Ensemble (unlabeled) at 0x7f37534ea710>.signal, ..., Dense(shape=(2, 2)).weighted>[(slice(0, 2, None),)], shape=(2,)) -> Signal(name=merged<<Ensemble \"b\">.neuron_in, ..., <Ensemble (unlabeled) at 0x7f37534ea710>.neuron_in>[(slice(100, 200, None),)], shape=(100,))  \"<Ensemble (unlabeled) at 0x7f37534ea710> encoding\"}\n",
      "-DotInc{Signal(name=Dense(shape=(2, 2)).weights, shape=(2, 100)), Signal(name=<Ensemble \"b\">.neuron_out, shape=(100,)) -> Signal(name=merged<<Ensemble (unlabeled) at 0x7f37534ea710>.signal, ..., Dense(shape=(2, 2)).weighted>[(slice(4, 6, None),)], shape=(2,))  \"Dense(shape=(2, 2)).apply_weights\"}\n",
      "-DotInc{Signal(name=Dense(shape=(2, 2)).weights, shape=(2, 100)), Signal(name=<Ensemble (unlabeled) at 0x7f37534ea710>.neuron_out, shape=(100,)) -> Signal(name=merged<Dense(shape=(2, 2)).weighted.Lowpass(tau=0.005), ..., Dense(shape=(2, 2)).weighted>[(slice(2, 4, None),)], shape=(2,))  \"Dense(shape=(2, 2)).apply_weights\"}\n",
      "-DotInc{Signal(name=merged<Dense(shape=(2, 2)).weights, ..., Dense(shape=(2, 2)).weights>, shape=(4, 100)), Signal(name=<Ensemble (unlabeled) at 0x7f37534ea710>.neuron_out, shape=(100,)) -> Signal(name=merged<Dense(shape=(2, 2)).weighted, ..., Dense(shape=(2, 2)).weighted>, shape=(4,))}\n",
      "-Reset{Signal(name=merged<<Ensemble \"b\">.signal, ..., <Probe of 'decoded_output' of <Ensemble (unlabeled) at 0x7f37534ea710>>>, shape=(4,))}\n",
      "-Reset{Signal(name=merged<<Ensemble (unlabeled) at 0x7f37534ea710>.signal, ..., Dense(shape=(2, 2)).weighted>, shape=(6,))}\n",
      "+BsrDotInc{Signal(name=bsr_merged<Dense(shape=(2, 2)).weights, ..., Dense(shape=(2, 2)).weights>, shape=(2, 2, 100)), Signal(name=merged<<Ensemble \"b\">.neuron_out, ..., <Ensemble \"a\">.neuron_out>, shape=(200,)) -> Signal(name=merged<Dense(shape=(2, 2)).weighted, ..., Dense(shape=(2, 2)).weighted>, shape=(4,))}\n",
      "+Copy{Signal(name=Dense(shape=(2, 2)).weighted.Lowpass(tau=0.005), shape=(2,)) -> Signal(name=merged<<Ensemble \"b\">.signal, ..., <Probe of 'decoded_output' of <Ensemble \"a\">>>[(slice(0, 2, None),)], shape=(2,)), inc=True  \"<Connection from <Ensemble \"a\"> to <Ensemble \"b\">>\"}\n",
      "+Copy{Signal(name=merged<<Ensemble \"b\">.bias, ..., <Ensemble \"a\">.bias>, shape=(200,)) -> Signal(name=merged<<Ensemble \"b\">.neuron_in, ..., <Ensemble \"a\">.neuron_in>, shape=(200,)), inc=False}\n",
      "+Copy{Signal(name=merged<Dense(shape=(2, 2)).weighted, ..., Dense(shape=(2, 2)).weighted>[(slice(0, 2, None),)], shape=(2,)) -> Signal(name=merged<<Ensemble \"a\">.signal, ..., <Probe of 'decoded_output' of <Ensemble \"b\">>>[(slice(4, 6, None),)], shape=(2,)), inc=True  \"<Connection from <Ensemble \"b\"> to <Probe of 'decoded_output' of <Ensemble \"b\">>>\"}\n",
      "+Copy{Signal(name=merged<Dense(shape=(2, 2)).weighted.Lowpass(tau=0.005), ..., Dense(shape=(2, 2)).weighted>, shape=(4,)) -> Signal(name=merged<<Ensemble \"b\">.signal, ..., <Probe of 'decoded_output' of <Ensemble \"a\">>>, shape=(4,)), inc=True}\n",
      "+DotInc{Signal(name=<Ensemble \"a\">.scaled_encoders, shape=(100, 2)), Signal(name=merged<<Ensemble \"a\">.signal, ..., <Probe of 'decoded_output' of <Ensemble \"b\">>>[(slice(0, 2, None),)], shape=(2,)) -> Signal(name=merged<<Ensemble \"b\">.neuron_in, ..., <Ensemble \"a\">.neuron_in>[(slice(100, 200, None),)], shape=(100,))  \"<Ensemble \"a\"> encoding\"}\n",
      "+DotInc{Signal(name=<Ensemble \"b\">.scaled_encoders, shape=(100, 2)), Signal(name=merged<<Ensemble \"b\">.signal, ..., <Probe of 'decoded_output' of <Ensemble \"a\">>>[(slice(0, 2, None),)], shape=(2,)) -> Signal(name=merged<<Ensemble \"b\">.neuron_in, ..., <Ensemble \"a\">.neuron_in>[(slice(0, 100, None),)], shape=(100,))  \"<Ensemble \"b\"> encoding\"}\n",
      "+DotInc{Signal(name=Dense(shape=(2, 2)).weights, shape=(2, 100)), Signal(name=merged<<Ensemble \"b\">.neuron_out, ..., <Ensemble \"a\">.neuron_out>[(slice(100, 200, None),)], shape=(100,)) -> Signal(name=merged<<Ensemble \"a\">.signal, ..., <Probe of 'decoded_output' of <Ensemble \"b\">>>[(slice(2, 4, None),)], shape=(2,))  \"Dense(shape=(2, 2)).apply_weights\"}\n",
      "+DotInc{Signal(name=Dense(shape=(2, 2)).weights, shape=(2, 100)), Signal(name=merged<<Ensemble \"b\">.neuron_out, ..., <Ensemble \"a\">.neuron_out>[(slice(100, 200, None),)], shape=(100,)) -> Signal(name=merged<Dense(shape=(2, 2)).weighted.Lowpass(tau=0.005), ..., Dense(shape=(2, 2)).weighted>[(slice(2, 4, None),)], shape=(2,))  \"Dense(shape=(2, 2)).apply_weights\"}\n",
      "+Reset{Signal(name=merged<<Ensemble \"a\">.signal, ..., <Probe of 'decoded_output' of <Ensemble \"b\">>>, shape=(6,))}\n",
      "+Reset{Signal(name=merged<<Ensemble \"b\">.signal, ..., <Probe of 'decoded_output' of <Ensemble \"a\">>>, shape=(4,))}\n",
      " Reset{Signal(name=merged<Dense(shape=(2, 2)).weighted, ..., Dense(shape=(2, 2)).weighted>, shape=(4,))}\n",
      " Reset{Signal(name=merged<Dense(shape=(2, 2)).weighted.Lowpass(tau=0.005), ..., Dense(shape=(2, 2)).weighted>[(slice(2, 4, None),)], shape=(2,))}\n",
      "-SimNeurons{LIF(), Signal(name=merged<<Ensemble \"b\">.neuron_in, ..., <Ensemble (unlabeled) at 0x7f37534ea710>.neuron_in>[(slice(0, 100, None),)], shape=(100,)), Signal(name=<Ensemble \"b\">.neuron_out, shape=(100,))}\n",
      "-SimNeurons{LIF(), Signal(name=merged<<Ensemble \"b\">.neuron_in, ..., <Ensemble (unlabeled) at 0x7f37534ea710>.neuron_in>[(slice(100, 200, None),)], shape=(100,)), Signal(name=<Ensemble (unlabeled) at 0x7f37534ea710>.neuron_out, shape=(100,))}\n",
      "-SimProcess{Lowpass(tau=0.005), Signal(name=merged<Dense(shape=(2, 2)).weighted, ..., Dense(shape=(2, 2)).weighted>[(slice(0, 2, None),)], shape=(2,)) -> Signal(name=Dense(shape=(2, 2)).weighted.Lowpass(tau=0.005), shape=(2,))}\n",
      "-SimProcess{Lowpass(tau=0.005), Signal(name=merged<Dense(shape=(2, 2)).weighted, ..., Dense(shape=(2, 2)).weighted>[(slice(2, 4, None),)], shape=(2,)) -> Signal(name=merged<Dense(shape=(2, 2)).weighted.Lowpass(tau=0.005), ..., Dense(shape=(2, 2)).weighted>[(slice(0, 2, None),)], shape=(2,))}\n",
      "+SimNeurons{LIF(), Signal(name=merged<<Ensemble \"b\">.neuron_in, ..., <Ensemble \"a\">.neuron_in>[(slice(0, 100, None),)], shape=(100,)), Signal(name=merged<<Ensemble \"b\">.neuron_out, ..., <Ensemble \"a\">.neuron_out>[(slice(0, 100, None),)], shape=(100,))}\n",
      "+SimNeurons{LIF(), Signal(name=merged<<Ensemble \"b\">.neuron_in, ..., <Ensemble \"a\">.neuron_in>[(slice(100, 200, None),)], shape=(100,)), Signal(name=merged<<Ensemble \"b\">.neuron_out, ..., <Ensemble \"a\">.neuron_out>[(slice(100, 200, None),)], shape=(100,))}\n",
      "+SimProcess{Lowpass(tau=0.005), Signal(name=merged<<Ensemble \"a\">.signal, ..., <Probe of 'decoded_output' of <Ensemble \"b\">>>[(slice(2, 4, None),)], shape=(2,)) -> Signal(name=merged<Dense(shape=(2, 2)).weighted.Lowpass(tau=0.005), ..., Dense(shape=(2, 2)).weighted>[(slice(0, 2, None),)], shape=(2,))}\n",
      "+SimProcess{Lowpass(tau=0.005), Signal(name=merged<Dense(shape=(2, 2)).weighted, ..., Dense(shape=(2, 2)).weighted>[(slice(2, 4, None),)], shape=(2,)) -> Signal(name=Dense(shape=(2, 2)).weighted.Lowpass(tau=0.005), shape=(2,))}\n",
      "+SimPyFunc{None -> Signal(name=<Node \"n1\">.out, shape=(1,)), fn='sin'}\n",
      " SimPyFunc{None -> Signal(name=<Node \"n2\">.out, shape=(1,)), fn='cos'}\n",
      "-SimPyFunc{None -> Signal(name=<Node (unlabeled) at 0x7f377c3d6d68>.out, shape=(1,)), fn='sin'}\n",
      " TimeUpdate{}\n"
     ]
    }
   ],
   "source": [
    "# Setting labels on all of the Nengo objects ensures the strings\n",
    "# stay the same across simulator instances.\n",
    "a.label = 'a'\n",
    "n1.label = 'n1'\n",
    "\n",
    "with nengo.Simulator(net1) as sim1:\n",
    "    sim1_str = sorted(str(op) for op in sim1._step_order)\n",
    "\n",
    "diff = difflib.unified_diff(\n",
    "    a=sorted([str(op) for op in sim._step_order]), b=sim1_str)\n",
    "print('\\n'.join(diff))\n",
    "# Several differences here because labels weren't set on sim"
   ]
  },
  {
   "cell_type": "code",
   "execution_count": 12,
   "metadata": {},
   "outputs": [
    {
     "name": "stdout",
     "output_type": "stream",
     "text": [
      "--- \n",
      "\n",
      "+++ \n",
      "\n",
      "@@ -1,19 +1,17 @@\n",
      "\n",
      "-BsrDotInc{Signal(name=bsr_merged<Dense(shape=(2, 2)).weights, ..., Dense(shape=(2, 2)).weights>, shape=(2, 2, 100)), Signal(name=merged<<Ensemble \"b\">.neuron_out, ..., <Ensemble \"a\">.neuron_out>, shape=(200,)) -> Signal(name=merged<Dense(shape=(2, 2)).weighted, ..., Dense(shape=(2, 2)).weighted>, shape=(4,))}\n",
      "-Copy{Signal(name=Dense(shape=(2, 2)).weighted.Lowpass(tau=0.005), shape=(2,)) -> Signal(name=merged<<Ensemble \"b\">.signal, ..., <Probe of 'decoded_output' of <Ensemble \"a\">>>[(slice(0, 2, None),)], shape=(2,)), inc=True  \"<Connection from <Ensemble \"a\"> to <Ensemble \"b\">>\"}\n",
      "-Copy{Signal(name=merged<<Ensemble \"b\">.bias, ..., <Ensemble \"a\">.bias>, shape=(200,)) -> Signal(name=merged<<Ensemble \"b\">.neuron_in, ..., <Ensemble \"a\">.neuron_in>, shape=(200,)), inc=False}\n",
      "-Copy{Signal(name=merged<Dense(shape=(2, 2)).weighted, ..., Dense(shape=(2, 2)).weighted>[(slice(0, 2, None),)], shape=(2,)) -> Signal(name=merged<<Ensemble \"a\">.signal, ..., <Probe of 'decoded_output' of <Ensemble \"b\">>>[(slice(4, 6, None),)], shape=(2,)), inc=True  \"<Connection from <Ensemble \"b\"> to <Probe of 'decoded_output' of <Ensemble \"b\">>>\"}\n",
      "-Copy{Signal(name=merged<Dense(shape=(2, 2)).weighted.Lowpass(tau=0.005), ..., Dense(shape=(2, 2)).weighted>, shape=(4,)) -> Signal(name=merged<<Ensemble \"b\">.signal, ..., <Probe of 'decoded_output' of <Ensemble \"a\">>>, shape=(4,)), inc=True}\n",
      "-DotInc{Signal(name=<Ensemble \"a\">.scaled_encoders, shape=(100, 2)), Signal(name=merged<<Ensemble \"a\">.signal, ..., <Probe of 'decoded_output' of <Ensemble \"b\">>>[(slice(0, 2, None),)], shape=(2,)) -> Signal(name=merged<<Ensemble \"b\">.neuron_in, ..., <Ensemble \"a\">.neuron_in>[(slice(100, 200, None),)], shape=(100,))  \"<Ensemble \"a\"> encoding\"}\n",
      "-DotInc{Signal(name=<Ensemble \"b\">.scaled_encoders, shape=(100, 2)), Signal(name=merged<<Ensemble \"b\">.signal, ..., <Probe of 'decoded_output' of <Ensemble \"a\">>>[(slice(0, 2, None),)], shape=(2,)) -> Signal(name=merged<<Ensemble \"b\">.neuron_in, ..., <Ensemble \"a\">.neuron_in>[(slice(0, 100, None),)], shape=(100,))  \"<Ensemble \"b\"> encoding\"}\n",
      "-DotInc{Signal(name=Dense(shape=(2, 2)).weights, shape=(2, 100)), Signal(name=merged<<Ensemble \"b\">.neuron_out, ..., <Ensemble \"a\">.neuron_out>[(slice(100, 200, None),)], shape=(100,)) -> Signal(name=merged<<Ensemble \"a\">.signal, ..., <Probe of 'decoded_output' of <Ensemble \"b\">>>[(slice(2, 4, None),)], shape=(2,))  \"Dense(shape=(2, 2)).apply_weights\"}\n",
      "-DotInc{Signal(name=Dense(shape=(2, 2)).weights, shape=(2, 100)), Signal(name=merged<<Ensemble \"b\">.neuron_out, ..., <Ensemble \"a\">.neuron_out>[(slice(100, 200, None),)], shape=(100,)) -> Signal(name=merged<Dense(shape=(2, 2)).weighted.Lowpass(tau=0.005), ..., Dense(shape=(2, 2)).weighted>[(slice(2, 4, None),)], shape=(2,))  \"Dense(shape=(2, 2)).apply_weights\"}\n",
      "-Reset{Signal(name=merged<<Ensemble \"a\">.signal, ..., <Probe of 'decoded_output' of <Ensemble \"b\">>>, shape=(6,))}\n",
      "-Reset{Signal(name=merged<<Ensemble \"b\">.signal, ..., <Probe of 'decoded_output' of <Ensemble \"a\">>>, shape=(4,))}\n",
      "+BsrDotInc{Signal(name=bsr_merged<<Ensemble \"a\">.scaled_encoders, ..., <Ensemble \"b\">.scaled_encoders>, shape=(2, 100, 2)), Signal(name=merged<<Ensemble \"a\">.signal, ..., <Ensemble \"b\">.signal>, shape=(4,)) -> Signal(name=merged<<Ensemble \"a\">.neuron_in, ..., <Ensemble \"b\">.neuron_in>, shape=(200,))}\n",
      "+BsrDotInc{Signal(name=bsr_merged<Dense(shape=(2, 2)).weights, ..., Dense(shape=(2, 2)).weights>, shape=(2, 2, 100)), Signal(name=merged<<Ensemble \"a\">.neuron_out, ..., <Ensemble \"b\">.neuron_out>, shape=(200,)) -> Signal(name=merged<Dense(shape=(2, 2)).weighted, ..., Dense(shape=(2, 2)).weighted>, shape=(4,))}\n",
      "+Copy{Signal(name=Dense(shape=(2, 2)).weighted.Lowpass(tau=0.005), shape=(2,)) -> Signal(name=merged<<Ensemble \"a\">.signal, ..., <Ensemble \"b\">.signal>[(slice(2, 4, None),)], shape=(2,)), inc=True  \"<Connection from <Ensemble \"a\"> to <Ensemble \"b\"> computing 'square'>\"}\n",
      "+Copy{Signal(name=Dense(shape=(2, 2)).weighted.Lowpass(tau=0.005), shape=(2,)) -> Signal(name=merged<<Ensemble \"a\">.signal, ..., <Ensemble \"b\">.signal>[(slice(2, 4, None),)], shape=(2,)), inc=True  \"<Connection from <Ensemble \"a\"> to <Ensemble \"b\">>\"}\n",
      "+Copy{Signal(name=merged<<Ensemble \"a\">.bias, ..., <Ensemble \"b\">.bias>, shape=(200,)) -> Signal(name=merged<<Ensemble \"a\">.neuron_in, ..., <Ensemble \"b\">.neuron_in>, shape=(200,)), inc=False}\n",
      "+Copy{Signal(name=merged<Dense(shape=(2, 2)).weighted, ..., Dense(shape=(2, 2)).weighted>, shape=(4,)) -> Signal(name=merged<<Probe of 'decoded_output' of <Ensemble \"a\">>, ..., <Probe of 'decoded_output' of <Ensemble \"b\">>>, shape=(4,)), inc=True}\n",
      "+DotInc{Signal(name=Dense(shape=(2, 2)).weights, shape=(2, 100)), Signal(name=merged<<Ensemble \"a\">.neuron_out, ..., <Ensemble \"b\">.neuron_out>[(slice(0, 100, None),)], shape=(100,)) -> Signal(name=merged<Dense(shape=(2, 2)).weighted, ..., Dense(shape=(2, 2)).weighted>[(slice(0, 2, None),)], shape=(2,))  \"Dense(shape=(2, 2)).apply_weights\"}\n",
      "+DotInc{Signal(name=Dense(shape=(2, 2)).weights, shape=(2, 100)), Signal(name=merged<<Ensemble \"a\">.neuron_out, ..., <Ensemble \"b\">.neuron_out>[(slice(0, 100, None),)], shape=(100,)) -> Signal(name=merged<Dense(shape=(2, 2)).weighted, ..., Dense(shape=(2, 2)).weighted>[(slice(2, 4, None),)], shape=(2,))  \"Dense(shape=(2, 2)).apply_weights\"}\n",
      "+Reset{Signal(name=merged<<Ensemble \"a\">.signal, ..., <Ensemble \"b\">.signal>, shape=(4,))}\n",
      "+Reset{Signal(name=merged<<Probe of 'decoded_output' of <Ensemble \"a\">>, ..., <Probe of 'decoded_output' of <Ensemble \"b\">>>, shape=(4,))}\n",
      " Reset{Signal(name=merged<Dense(shape=(2, 2)).weighted, ..., Dense(shape=(2, 2)).weighted>, shape=(4,))}\n",
      "-Reset{Signal(name=merged<Dense(shape=(2, 2)).weighted.Lowpass(tau=0.005), ..., Dense(shape=(2, 2)).weighted>[(slice(2, 4, None),)], shape=(2,))}\n",
      "-SimNeurons{LIF(), Signal(name=merged<<Ensemble \"b\">.neuron_in, ..., <Ensemble \"a\">.neuron_in>[(slice(0, 100, None),)], shape=(100,)), Signal(name=merged<<Ensemble \"b\">.neuron_out, ..., <Ensemble \"a\">.neuron_out>[(slice(0, 100, None),)], shape=(100,))}\n",
      "-SimNeurons{LIF(), Signal(name=merged<<Ensemble \"b\">.neuron_in, ..., <Ensemble \"a\">.neuron_in>[(slice(100, 200, None),)], shape=(100,)), Signal(name=merged<<Ensemble \"b\">.neuron_out, ..., <Ensemble \"a\">.neuron_out>[(slice(100, 200, None),)], shape=(100,))}\n",
      "-SimProcess{Lowpass(tau=0.005), Signal(name=merged<<Ensemble \"a\">.signal, ..., <Probe of 'decoded_output' of <Ensemble \"b\">>>[(slice(2, 4, None),)], shape=(2,)) -> Signal(name=merged<Dense(shape=(2, 2)).weighted.Lowpass(tau=0.005), ..., Dense(shape=(2, 2)).weighted>[(slice(0, 2, None),)], shape=(2,))}\n",
      "+Reset{Signal(name=merged<Dense(shape=(2, 2)).weighted, ..., Dense(shape=(2, 2)).weighted>, shape=(4,))}\n",
      "+SimNeurons{LIF(), Signal(name=merged<<Ensemble \"a\">.neuron_in, ..., <Ensemble \"b\">.neuron_in>, shape=(200,)), Signal(name=merged<<Ensemble \"a\">.neuron_out, ..., <Ensemble \"b\">.neuron_out>, shape=(200,))}\n",
      "+SimProcess{Lowpass(tau=0.005), Signal(name=merged<Dense(shape=(2, 2)).weighted, ..., Dense(shape=(2, 2)).weighted>[(slice(0, 2, None),)], shape=(2,)) -> Signal(name=Dense(shape=(2, 2)).weighted.Lowpass(tau=0.005), shape=(2,))}\n",
      " SimProcess{Lowpass(tau=0.005), Signal(name=merged<Dense(shape=(2, 2)).weighted, ..., Dense(shape=(2, 2)).weighted>[(slice(2, 4, None),)], shape=(2,)) -> Signal(name=Dense(shape=(2, 2)).weighted.Lowpass(tau=0.005), shape=(2,))}\n",
      " SimPyFunc{None -> Signal(name=<Node \"n1\">.out, shape=(1,)), fn='sin'}\n",
      " SimPyFunc{None -> Signal(name=<Node \"n2\">.out, shape=(1,)), fn='cos'}\n"
     ]
    }
   ],
   "source": [
    "with nengo.Simulator(net1) as sim2:\n",
    "    sim2_str = sorted(str(op) for op in sim2._step_order)\n",
    "diff = difflib.unified_diff(a=sim1_str, b=sim2_str)\n",
    "print('\\n'.join(diff))\n",
    "# No more differences because labels keep representations stable"
   ]
  }
 ],
 "metadata": {
  "language_info": {
   "codemirror_mode": {
    "name": "ipython",
    "version": 3
   },
   "file_extension": ".py",
   "mimetype": "text/x-python",
   "name": "python",
   "nbconvert_exporter": "python",
   "pygments_lexer": "ipython3",
   "version": "3.6.7"
  }
 },
 "nbformat": 4,
 "nbformat_minor": 2
}
