{
 "cells": [
  {
   "cell_type": "markdown",
   "metadata": {
    "collapsed": true
   },
   "source": [
    "# Exceptions\n",
    "\n",
    "This should be an exhaustive list of the exceptions\n",
    "that can be raised by Nengo,\n",
    "and how they appear when they occur.\n",
    "\n",
    "The exceptions are ordered roughly by how commonly\n",
    "we expect them to occur."
   ]
  },
  {
   "cell_type": "code",
   "execution_count": 1,
   "metadata": {},
   "outputs": [],
   "source": [
    "from io import StringIO\n",
    "import traceback\n",
    "import warnings\n",
    "\n",
    "import nengo\n",
    "import nengo.spa\n",
    "\n",
    "\n",
    "def print_exc(func):\n",
    "    try:\n",
    "        with warnings.catch_warnings():\n",
    "            warnings.simplefilter('ignore')\n",
    "            func()\n",
    "    except Exception:\n",
    "        traceback.print_exc()"
   ]
  },
  {
   "cell_type": "markdown",
   "metadata": {},
   "source": [
    "## ValidationError in NengoObject (simplified)"
   ]
  },
  {
   "cell_type": "code",
   "execution_count": 2,
   "metadata": {},
   "outputs": [
    {
     "name": "stderr",
     "output_type": "stream",
     "text": [
      "Traceback (most recent call last):\n",
      "  File \"<ipython-input-1-d59cc247948f>\", line 13, in print_exc\n",
      "    func()\n",
      "  File \"<ipython-input-2-d058d9a98e32>\", line 3, in nengo_obj_simple\n",
      "    nengo.Ensemble(n_neurons=0, dimensions=1)\n",
      "  File \"/home/travis/build/nengo/nengo/nengo/base.py\", line 34, in __call__\n",
      "    inst.__init__(*args, **kwargs)\n",
      "  File \"/home/travis/build/nengo/nengo/nengo/ensemble.py\", line 161, in __init__\n",
      "    self.n_neurons = n_neurons\n",
      "  File \"/home/travis/build/nengo/nengo/nengo/base.py\", line 108, in __setattr__\n",
      "    super().__setattr__(name, val)\n",
      "  File \"/home/travis/build/nengo/nengo/nengo/config.py\", line 492, in __setattr__\n",
      "    raise exc_info[1].with_traceback(None)\n",
      "nengo.exceptions.ValidationError: Ensemble.n_neurons: Value must be greater than or equal to 1 (got 0)\n"
     ]
    }
   ],
   "source": [
    "def nengo_obj_simple():\n",
    "    with nengo.Network():\n",
    "        nengo.Ensemble(n_neurons=0, dimensions=1)\n",
    "\n",
    "\n",
    "nengo.rc.set('exceptions', 'simplified', str(True))\n",
    "print_exc(nengo_obj_simple)"
   ]
  },
  {
   "cell_type": "markdown",
   "metadata": {},
   "source": [
    "## ValidationError in NengoObject (full)"
   ]
  },
  {
   "cell_type": "code",
   "execution_count": 3,
   "metadata": {},
   "outputs": [
    {
     "name": "stderr",
     "output_type": "stream",
     "text": [
      "Traceback (most recent call last):\n",
      "  File \"<ipython-input-1-d59cc247948f>\", line 13, in print_exc\n",
      "    func()\n",
      "  File \"<ipython-input-3-67bf25be1872>\", line 3, in nengo_obj_full\n",
      "    nengo.Ensemble(n_neurons=0, dimensions=1)\n",
      "  File \"/home/travis/build/nengo/nengo/nengo/base.py\", line 34, in __call__\n",
      "    inst.__init__(*args, **kwargs)\n",
      "  File \"/home/travis/build/nengo/nengo/nengo/ensemble.py\", line 161, in __init__\n",
      "    self.n_neurons = n_neurons\n",
      "  File \"/home/travis/build/nengo/nengo/nengo/base.py\", line 108, in __setattr__\n",
      "    super().__setattr__(name, val)\n",
      "  File \"/home/travis/build/nengo/nengo/nengo/config.py\", line 494, in __setattr__\n",
      "    super().__setattr__(name, val)\n",
      "  File \"/home/travis/build/nengo/nengo/nengo/params.py\", line 144, in __set__\n",
      "    self.data[instance] = self.coerce(instance, value)\n",
      "  File \"/home/travis/build/nengo/nengo/nengo/params.py\", line 306, in coerce\n",
      "    return super().coerce(instance, num)\n",
      "  File \"/home/travis/build/nengo/nengo/nengo/params.py\", line 288, in coerce\n",
      "    obj=instance,\n",
      "nengo.exceptions.ValidationError: Ensemble.n_neurons: Value must be greater than or equal to 1 (got 0)\n"
     ]
    }
   ],
   "source": [
    "def nengo_obj_full():\n",
    "    with nengo.Network():\n",
    "        nengo.Ensemble(n_neurons=0, dimensions=1)\n",
    "\n",
    "\n",
    "nengo.rc.set('exceptions', 'simplified', str(False))\n",
    "print_exc(nengo_obj_full)"
   ]
  },
  {
   "cell_type": "markdown",
   "metadata": {},
   "source": [
    "## ValidationError in non-NengoObject"
   ]
  },
  {
   "cell_type": "code",
   "execution_count": 4,
   "metadata": {},
   "outputs": [
    {
     "name": "stderr",
     "output_type": "stream",
     "text": [
      "Traceback (most recent call last):\n",
      "  File \"<ipython-input-1-d59cc247948f>\", line 13, in print_exc\n",
      "    func()\n",
      "  File \"<ipython-input-4-f390bafc04da>\", line 2, in dist\n",
      "    nengo.dists.PDF(x=[1, 1], p=[0.1, 0.2])\n",
      "  File \"/home/travis/build/nengo/nengo/nengo/dists.py\", line 121, in __init__\n",
      "    \"PDF must sum to one (sums to %f)\" % psum, attr=\"p\", obj=self\n",
      "nengo.exceptions.ValidationError: PDF.p: PDF must sum to one (sums to 0.300000)\n"
     ]
    }
   ],
   "source": [
    "def dist():\n",
    "    nengo.dists.PDF(x=[1, 1], p=[0.1, 0.2])\n",
    "\n",
    "\n",
    "print_exc(dist)"
   ]
  },
  {
   "cell_type": "markdown",
   "metadata": {},
   "source": [
    "## ReadonlyError in NengoObject (simplified)"
   ]
  },
  {
   "cell_type": "code",
   "execution_count": 5,
   "metadata": {},
   "outputs": [
    {
     "name": "stderr",
     "output_type": "stream",
     "text": [
      "Traceback (most recent call last):\n",
      "  File \"<ipython-input-1-d59cc247948f>\", line 13, in print_exc\n",
      "    func()\n",
      "  File \"<ipython-input-5-b923ead4b682>\", line 5, in nengo_obj_readonly\n",
      "    p.target = ens\n",
      "  File \"/home/travis/build/nengo/nengo/nengo/base.py\", line 108, in __setattr__\n",
      "    super().__setattr__(name, val)\n",
      "  File \"/home/travis/build/nengo/nengo/nengo/config.py\", line 492, in __setattr__\n",
      "    raise exc_info[1].with_traceback(None)\n",
      "nengo.exceptions.ReadonlyError: Probe.target: target is read-only and cannot be changed\n"
     ]
    }
   ],
   "source": [
    "def nengo_obj_readonly():\n",
    "    with nengo.Network():\n",
    "        ens = nengo.Ensemble(n_neurons=10, dimensions=1)\n",
    "        p = nengo.Probe(ens)\n",
    "        p.target = ens\n",
    "\n",
    "\n",
    "nengo.rc.set('exceptions', 'simplified', str(True))\n",
    "print_exc(nengo_obj_readonly)"
   ]
  },
  {
   "cell_type": "markdown",
   "metadata": {},
   "source": [
    "## ReadonlyError in NengoObject (full)"
   ]
  },
  {
   "cell_type": "code",
   "execution_count": 6,
   "metadata": {},
   "outputs": [
    {
     "name": "stderr",
     "output_type": "stream",
     "text": [
      "Traceback (most recent call last):\n",
      "  File \"<ipython-input-1-d59cc247948f>\", line 13, in print_exc\n",
      "    func()\n",
      "  File \"<ipython-input-6-50fa33d2e3bf>\", line 5, in nengo_obj_readonly_full\n",
      "    p.target = ens\n",
      "  File \"/home/travis/build/nengo/nengo/nengo/base.py\", line 108, in __setattr__\n",
      "    super().__setattr__(name, val)\n",
      "  File \"/home/travis/build/nengo/nengo/nengo/config.py\", line 494, in __setattr__\n",
      "    super().__setattr__(name, val)\n",
      "  File \"/home/travis/build/nengo/nengo/nengo/params.py\", line 144, in __set__\n",
      "    self.data[instance] = self.coerce(instance, value)\n",
      "  File \"/home/travis/build/nengo/nengo/nengo/probe.py\", line 25, in coerce\n",
      "    return super().coerce(probe, target)\n",
      "  File \"/home/travis/build/nengo/nengo/nengo/base.py\", line 238, in coerce\n",
      "    return super().coerce(instance, nengo_obj)\n",
      "  File \"/home/travis/build/nengo/nengo/nengo/params.py\", line 190, in coerce\n",
      "    raise ReadonlyError(attr=self.name, obj=instance)\n",
      "nengo.exceptions.ReadonlyError: Probe.target: target is read-only and cannot be changed\n"
     ]
    }
   ],
   "source": [
    "def nengo_obj_readonly_full():\n",
    "    with nengo.Network():\n",
    "        ens = nengo.Ensemble(n_neurons=10, dimensions=1)\n",
    "        p = nengo.Probe(ens)\n",
    "        p.target = ens\n",
    "\n",
    "\n",
    "nengo.rc.set('exceptions', 'simplified', str(False))\n",
    "print_exc(nengo_obj_readonly_full)"
   ]
  },
  {
   "cell_type": "markdown",
   "metadata": {},
   "source": [
    "## ReadonlyError in non-NengoObject"
   ]
  },
  {
   "cell_type": "code",
   "execution_count": 7,
   "metadata": {},
   "outputs": [
    {
     "name": "stderr",
     "output_type": "stream",
     "text": [
      "Traceback (most recent call last):\n",
      "  File \"<ipython-input-1-d59cc247948f>\", line 13, in print_exc\n",
      "    func()\n",
      "  File \"<ipython-input-7-d1681b491ee5>\", line 4, in ensemble\n",
      "    ens.neurons = None\n",
      "  File \"/home/travis/build/nengo/nengo/nengo/base.py\", line 108, in __setattr__\n",
      "    super().__setattr__(name, val)\n",
      "  File \"/home/travis/build/nengo/nengo/nengo/config.py\", line 494, in __setattr__\n",
      "    super().__setattr__(name, val)\n",
      "  File \"/home/travis/build/nengo/nengo/nengo/ensemble.py\", line 188, in neurons\n",
      "    raise ReadonlyError(attr=\"neurons\", obj=self)\n",
      "nengo.exceptions.ReadonlyError: Ensemble.neurons: neurons is read-only and cannot be changed\n"
     ]
    }
   ],
   "source": [
    "def ensemble():\n",
    "    with nengo.Network():\n",
    "        ens = nengo.Ensemble(n_neurons=10, dimensions=1)\n",
    "        ens.neurons = None\n",
    "\n",
    "\n",
    "print_exc(ensemble)"
   ]
  },
  {
   "cell_type": "code",
   "execution_count": 8,
   "metadata": {},
   "outputs": [
    {
     "name": "stderr",
     "output_type": "stream",
     "text": [
      "Traceback (most recent call last):\n",
      "  File \"<ipython-input-1-d59cc247948f>\", line 13, in print_exc\n",
      "    func()\n",
      "  File \"<ipython-input-8-1626fef62178>\", line 5, in param\n",
      "    Frozen()\n",
      "  File \"/home/travis/build/nengo/nengo/nengo/params.py\", line 609, in __init__\n",
      "    raise ReadonlyError(attr=p, obj=self, msg=msg)\n",
      "nengo.exceptions.ReadonlyError: Frozen.Parameter('p', default=Unconfigurable, optional=False, readonly=False): All parameters of a FrozenObject must be readonly\n"
     ]
    }
   ],
   "source": [
    "def param():\n",
    "    class Frozen(nengo.params.FrozenObject):\n",
    "        p = nengo.params.Parameter('p', readonly=False)\n",
    "\n",
    "    Frozen()\n",
    "\n",
    "\n",
    "print_exc(param)"
   ]
  },
  {
   "cell_type": "markdown",
   "metadata": {},
   "source": [
    "## SimulatorClosed"
   ]
  },
  {
   "cell_type": "code",
   "execution_count": 9,
   "metadata": {},
   "outputs": [
    {
     "name": "stderr",
     "output_type": "stream",
     "text": [
      "Traceback (most recent call last):\n",
      "  File \"<ipython-input-1-d59cc247948f>\", line 13, in print_exc\n",
      "    func()\n",
      "  File \"<ipython-input-9-4c6658111f63>\", line 6, in simclose\n",
      "    sim.run(0.01)\n",
      "  File \"/home/travis/build/nengo/nengo/nengo/simulator.py\", line 335, in run\n",
      "    self.run_steps(steps, progress_bar=progress_bar)\n",
      "  File \"/home/travis/build/nengo/nengo/nengo/simulator.py\", line 359, in run_steps\n",
      "    self.step()\n",
      "  File \"/home/travis/build/nengo/nengo/nengo/simulator.py\", line 365, in step\n",
      "    raise SimulatorClosed(\"Simulator cannot run because it is closed.\")\n",
      "nengo.exceptions.SimulatorClosed: Simulator cannot run because it is closed.\n"
     ]
    }
   ],
   "source": [
    "def simclose():\n",
    "    with nengo.Network() as net:\n",
    "        nengo.Ensemble(10, 1)\n",
    "    with nengo.Simulator(net) as sim:\n",
    "        sim.run(0.01)\n",
    "    sim.run(0.01)\n",
    "\n",
    "\n",
    "print_exc(simclose)"
   ]
  },
  {
   "cell_type": "markdown",
   "metadata": {},
   "source": [
    "## BuildtimeError"
   ]
  },
  {
   "cell_type": "code",
   "execution_count": 10,
   "metadata": {},
   "outputs": [
    {
     "name": "stderr",
     "output_type": "stream",
     "text": [
      "Traceback (most recent call last):\n",
      "  File \"<ipython-input-1-d59cc247948f>\", line 13, in print_exc\n",
      "    func()\n",
      "  File \"<ipython-input-10-2f33f615befa>\", line 3, in builderror\n",
      "    nengo.builder.Builder.build(model, \"\")\n",
      "  File \"/home/travis/build/nengo/nengo/nengo/builder/builder.py\", line 240, in build\n",
      "    raise BuildError(\"Cannot build object of type %r\" % type(obj).__name__)\n",
      "nengo.exceptions.BuildError: Cannot build object of type 'str'\n"
     ]
    }
   ],
   "source": [
    "def builderror():\n",
    "    model = nengo.builder.Model()\n",
    "    nengo.builder.Builder.build(model, \"\")\n",
    "\n",
    "\n",
    "print_exc(builderror)"
   ]
  },
  {
   "cell_type": "markdown",
   "metadata": {},
   "source": [
    "## ZeroActivityError"
   ]
  },
  {
   "cell_type": "code",
   "execution_count": 11,
   "metadata": {},
   "outputs": [
    {
     "name": "stderr",
     "output_type": "stream",
     "text": [
      "Traceback (most recent call last):\n",
      "  File \"<ipython-input-1-d59cc247948f>\", line 13, in print_exc\n",
      "    func()\n",
      "  File \"<ipython-input-11-a3326b906315>\", line 5, in zeroactivity\n",
      "    with nengo.Simulator(net):\n",
      "  File \"/home/travis/build/nengo/nengo/nengo/simulator.py\", line 126, in __init__\n",
      "    self.model.build(network, progress=pt.next_stage(\"Building\", \"Build\"))\n",
      "  File \"/home/travis/build/nengo/nengo/nengo/builder/builder.py\", line 133, in build\n",
      "    built = self.builder.build(self, obj, *args, **kwargs)\n",
      "  File \"/home/travis/build/nengo/nengo/nengo/builder/builder.py\", line 242, in build\n",
      "    return cls.builders[obj_cls](model, obj, *args, **kwargs)\n",
      "  File \"/home/travis/build/nengo/nengo/nengo/builder/network.py\", line 94, in build_network\n",
      "    model.build(conn)\n",
      "  File \"/home/travis/build/nengo/nengo/nengo/builder/builder.py\", line 133, in build\n",
      "    built = self.builder.build(self, obj, *args, **kwargs)\n",
      "  File \"/home/travis/build/nengo/nengo/nengo/builder/builder.py\", line 242, in build\n",
      "    return cls.builders[obj_cls](model, obj, *args, **kwargs)\n",
      "  File \"/home/travis/build/nengo/nengo/nengo/builder/connection.py\", line 267, in build_connection\n",
      "    eval_points, decoders, solver_info = model.build(conn.solver, conn, rng)\n",
      "  File \"/home/travis/build/nengo/nengo/nengo/builder/builder.py\", line 133, in build\n",
      "    built = self.builder.build(self, obj, *args, **kwargs)\n",
      "  File \"/home/travis/build/nengo/nengo/nengo/builder/builder.py\", line 242, in build\n",
      "    return cls.builders[obj_cls](model, obj, *args, **kwargs)\n",
      "  File \"/home/travis/build/nengo/nengo/nengo/builder/connection.py\", line 176, in build_solver\n",
      "    return build_decoders(model, conn, rng)\n",
      "  File \"/home/travis/build/nengo/nengo/nengo/builder/connection.py\", line 138, in build_decoders\n",
      "    decoders, solver_info = wrapped_solver(conn, gain, bias, x, targets, rng=rng)\n",
      "  File \"/home/travis/build/nengo/nengo/nengo/builder/connection.py\", line 154, in solve_for_decoders\n",
      "    \"ranges of any neurons.\" % (conn, conn.pre_obj)\n",
      "nengo.exceptions.BuildError: Building <Connection from <Ensemble (unlabeled) at 0x7f51f4962860> to <Ensemble (unlabeled) at 0x7f51f4962860>>: 'activities' matrix is all zero for <Ensemble (unlabeled) at 0x7f51f4962860>. This is because no evaluation points fall in the firing ranges of any neurons.\n"
     ]
    }
   ],
   "source": [
    "def zeroactivity():\n",
    "    with nengo.Network() as net:\n",
    "        e = nengo.Ensemble(1, 1, gain=[0], bias=[-1], encoders=[[1]])\n",
    "        nengo.Connection(e, e)\n",
    "    with nengo.Simulator(net):\n",
    "        pass\n",
    "\n",
    "\n",
    "print_exc(zeroactivity)"
   ]
  },
  {
   "cell_type": "markdown",
   "metadata": {},
   "source": [
    "## SpaParseError"
   ]
  },
  {
   "cell_type": "code",
   "execution_count": 12,
   "metadata": {},
   "outputs": [
    {
     "name": "stderr",
     "output_type": "stream",
     "text": [
      "Traceback (most recent call last):\n",
      "  File \"<ipython-input-1-d59cc247948f>\", line 13, in print_exc\n",
      "    func()\n",
      "  File \"<ipython-input-12-1e3720fa54ce>\", line 3, in spaparse\n",
      "    vocab['a']\n",
      "  File \"/home/travis/build/nengo/nengo/nengo/spa/vocab.py\", line 147, in __getitem__\n",
      "    raise SpaParseError(\"Semantic pointers must begin with a capital letter.\")\n",
      "nengo.exceptions.SpaParseError: Semantic pointers must begin with a capital letter.\n"
     ]
    }
   ],
   "source": [
    "def spaparse():\n",
    "    vocab = nengo.spa.Vocabulary(16)\n",
    "    vocab['a']\n",
    "\n",
    "\n",
    "print_exc(spaparse)"
   ]
  },
  {
   "cell_type": "markdown",
   "metadata": {},
   "source": [
    "## SpaModuleError"
   ]
  },
  {
   "cell_type": "code",
   "execution_count": 13,
   "metadata": {},
   "outputs": [
    {
     "name": "stderr",
     "output_type": "stream",
     "text": [
      "Traceback (most recent call last):\n",
      "  File \"<ipython-input-1-d59cc247948f>\", line 13, in print_exc\n",
      "    func()\n",
      "  File \"<ipython-input-13-f078a80e616b>\", line 3, in spamodule\n",
      "    nengo.spa.State(1)\n",
      "  File \"/home/travis/build/nengo/nengo/nengo/spa/spa.py\", line 157, in __exit__\n",
      "    \"%s must be set as an attribute of a SPA network\" % (net)\n",
      "nengo.exceptions.SpaModuleError: <State (unlabeled) at 0x7f51f4a01e80> must be set as an attribute of a SPA network\n"
     ]
    }
   ],
   "source": [
    "def spamodule():\n",
    "    with nengo.spa.SPA():\n",
    "        nengo.spa.State(1)\n",
    "\n",
    "\n",
    "print_exc(spamodule)"
   ]
  },
  {
   "cell_type": "markdown",
   "metadata": {},
   "source": [
    "## ObsoleteError"
   ]
  },
  {
   "cell_type": "code",
   "execution_count": 14,
   "metadata": {},
   "outputs": [
    {
     "name": "stderr",
     "output_type": "stream",
     "text": [
      "Traceback (most recent call last):\n",
      "  File \"<ipython-input-1-d59cc247948f>\", line 13, in print_exc\n",
      "    func()\n",
      "  File \"<ipython-input-14-4140151134ff>\", line 5, in obsolete\n",
      "    nengo.Probe(c, 'decoders')\n",
      "  File \"/home/travis/build/nengo/nengo/nengo/base.py\", line 34, in __call__\n",
      "    inst.__init__(*args, **kwargs)\n",
      "  File \"/home/travis/build/nengo/nengo/nengo/probe.py\", line 140, in __init__\n",
      "    self.attr = attr if attr is not None else self.obj.probeable[0]\n",
      "  File \"/home/travis/build/nengo/nengo/nengo/base.py\", line 108, in __setattr__\n",
      "    super().__setattr__(name, val)\n",
      "  File \"/home/travis/build/nengo/nengo/nengo/config.py\", line 494, in __setattr__\n",
      "    super().__setattr__(name, val)\n",
      "  File \"/home/travis/build/nengo/nengo/nengo/params.py\", line 144, in __set__\n",
      "    self.data[instance] = self.coerce(instance, value)\n",
      "  File \"/home/travis/build/nengo/nengo/nengo/probe.py\", line 38, in coerce\n",
      "    obj=probe,\n",
      "nengo.exceptions.ValidationError: Probe.attr: Attribute 'decoders' is not probeable on <Connection from <Ensemble (unlabeled) at 0x7f51f49625c0> to <Ensemble (unlabeled) at 0x7f51f49625c0>>.\n",
      "Probeable attributes: ('output', 'input', 'weights')\n"
     ]
    }
   ],
   "source": [
    "def obsolete():\n",
    "    with nengo.Network():\n",
    "        e = nengo.Ensemble(10, 1)\n",
    "        c = nengo.Connection(e, e)\n",
    "        nengo.Probe(c, 'decoders')\n",
    "\n",
    "\n",
    "print_exc(obsolete)"
   ]
  },
  {
   "cell_type": "markdown",
   "metadata": {},
   "source": [
    "## ConfigError"
   ]
  },
  {
   "cell_type": "code",
   "execution_count": 15,
   "metadata": {},
   "outputs": [
    {
     "name": "stderr",
     "output_type": "stream",
     "text": [
      "Traceback (most recent call last):\n",
      "  File \"<ipython-input-1-d59cc247948f>\", line 13, in print_exc\n",
      "    func()\n",
      "  File \"<ipython-input-15-cfb1b1956a05>\", line 2, in config\n",
      "    nengo.Network().config[object]\n",
      "  File \"/home/travis/build/nengo/nengo/nengo/config.py\", line 380, in __getitem__\n",
      "    \"Call 'configures(%(name)s)' first.\" % {\"name\": key.__name__}\n",
      "nengo.exceptions.ConfigError: Type 'object' is not set up for configuration. Call 'configures(object)' first.\n"
     ]
    }
   ],
   "source": [
    "def config():\n",
    "    nengo.Network().config[object]\n",
    "\n",
    "\n",
    "print_exc(config)"
   ]
  },
  {
   "cell_type": "markdown",
   "metadata": {},
   "source": [
    "## SimulationError"
   ]
  },
  {
   "cell_type": "code",
   "execution_count": 16,
   "metadata": {},
   "outputs": [
    {
     "name": "stderr",
     "output_type": "stream",
     "text": [
      "Traceback (most recent call last):\n",
      "  File \"<ipython-input-1-d59cc247948f>\", line 13, in print_exc\n",
      "    func()\n",
      "  File \"<ipython-input-16-ac0c575e31a9>\", line 5, in simerror\n",
      "    sim.run(0.003)\n",
      "  File \"/home/travis/build/nengo/nengo/nengo/simulator.py\", line 335, in run\n",
      "    self.run_steps(steps, progress_bar=progress_bar)\n",
      "  File \"/home/travis/build/nengo/nengo/nengo/simulator.py\", line 359, in run_steps\n",
      "    self.step()\n",
      "  File \"/home/travis/build/nengo/nengo/nengo/simulator.py\", line 370, in step\n",
      "    step_fn()\n",
      "  File \"/home/travis/build/nengo/nengo/nengo/builder/operator.py\", line 813, in step_simpyfunc\n",
      "    % function_name(self.fn)\n",
      "nengo.exceptions.SimulationError: Function '<lambda>' returned non-finite value\n"
     ]
    }
   ],
   "source": [
    "def simerror():\n",
    "    with nengo.Network() as net:\n",
    "        nengo.Node(lambda t: None if t > 0.002 else 1.0)\n",
    "    with nengo.Simulator(net) as sim:\n",
    "        sim.run(0.003)\n",
    "\n",
    "\n",
    "print_exc(simerror)"
   ]
  },
  {
   "cell_type": "markdown",
   "metadata": {},
   "source": [
    "## NetworkContextError"
   ]
  },
  {
   "cell_type": "code",
   "execution_count": 17,
   "metadata": {},
   "outputs": [
    {
     "name": "stderr",
     "output_type": "stream",
     "text": [
      "Traceback (most recent call last):\n",
      "  File \"<ipython-input-17-39167fa7fced>\", line 4, in context\n",
      "    nengo.Ensemble(10, 1)\n",
      "  File \"/home/travis/build/nengo/nengo/nengo/base.py\", line 36, in __call__\n",
      "    nengo.Network.add(inst)\n",
      "  File \"/home/travis/build/nengo/nengo/nengo/network.py\", line 123, in add\n",
      "    raise NetworkContextError(\"Current context (%s) is not a network\" % network)\n",
      "nengo.exceptions.NetworkContextError: Current context (bad) is not a network\n",
      "\n",
      "During handling of the above exception, another exception occurred:\n",
      "\n",
      "Traceback (most recent call last):\n",
      "  File \"<ipython-input-1-d59cc247948f>\", line 13, in print_exc\n",
      "    func()\n",
      "  File \"<ipython-input-17-39167fa7fced>\", line 4, in context\n",
      "    nengo.Ensemble(10, 1)\n",
      "  File \"/home/travis/build/nengo/nengo/nengo/network.py\", line 269, in __exit__\n",
      "    \"to be '%s' but instead got '%s'.\" % (self, network)\n",
      "nengo.exceptions.NetworkContextError: Network.context in bad state; was expecting current context to be '<Network (unlabeled) at 0x7f51f4962668>' but instead got 'bad'.\n"
     ]
    }
   ],
   "source": [
    "def context():\n",
    "    with nengo.Network():\n",
    "        nengo.Network.context.append(\"bad\")\n",
    "        nengo.Ensemble(10, 1)\n",
    "\n",
    "\n",
    "print_exc(context)\n",
    "nengo.Network.context.clear()"
   ]
  },
  {
   "cell_type": "markdown",
   "metadata": {},
   "source": [
    "## NeuronTypeError"
   ]
  },
  {
   "cell_type": "code",
   "execution_count": 18,
   "metadata": {},
   "outputs": [
    {
     "name": "stderr",
     "output_type": "stream",
     "text": [
      "Traceback (most recent call last):\n",
      "  File \"<ipython-input-1-d59cc247948f>\", line 13, in print_exc\n",
      "    func()\n",
      "  File \"<ipython-input-18-58336fa3c09d>\", line 3, in direct\n",
      "    d.step_math(None, None, None)\n",
      "  File \"/home/travis/build/nengo/nengo/nengo/neurons.py\", line 264, in step_math\n",
      "    raise SimulationError(\"Direct mode neurons shouldn't be simulated.\")\n",
      "nengo.exceptions.SimulationError: Direct mode neurons shouldn't be simulated.\n"
     ]
    }
   ],
   "source": [
    "def direct():\n",
    "    d = nengo.neurons.Direct()\n",
    "    d.step_math(None, None, None)\n",
    "\n",
    "\n",
    "print_exc(direct)"
   ]
  },
  {
   "cell_type": "markdown",
   "metadata": {},
   "source": [
    "## FingerprintError"
   ]
  },
  {
   "cell_type": "code",
   "execution_count": 19,
   "metadata": {},
   "outputs": [
    {
     "name": "stderr",
     "output_type": "stream",
     "text": [
      "Traceback (most recent call last):\n",
      "  File \"<ipython-input-1-d59cc247948f>\", line 13, in print_exc\n",
      "    func()\n",
      "  File \"<ipython-input-19-92e75003770e>\", line 2, in fingerprint\n",
      "    nengo.cache.Fingerprint(lambda x: x)\n",
      "  File \"/home/travis/build/nengo/nengo/nengo/cache.py\", line 198, in __init__\n",
      "    \"Object of type %r cannot be fingerprinted.\" % type(obj).__name__\n",
      "nengo.exceptions.FingerprintError: Object of type 'function' cannot be fingerprinted.\n"
     ]
    }
   ],
   "source": [
    "def fingerprint():\n",
    "    nengo.cache.Fingerprint(lambda x: x)\n",
    "\n",
    "\n",
    "print_exc(fingerprint)"
   ]
  },
  {
   "cell_type": "markdown",
   "metadata": {},
   "source": [
    "## CacheIOError"
   ]
  },
  {
   "cell_type": "code",
   "execution_count": 20,
   "metadata": {},
   "outputs": [
    {
     "name": "stderr",
     "output_type": "stream",
     "text": [
      "Traceback (most recent call last):\n",
      "  File \"<ipython-input-1-d59cc247948f>\", line 13, in print_exc\n",
      "    func()\n",
      "  File \"<ipython-input-20-fc9d7715963f>\", line 3, in cacheio\n",
      "    nengo.utils.nco.read(sio)\n",
      "  File \"/home/travis/build/nengo/nengo/nengo/utils/nco.py\", line 151, in read\n",
      "    HEADER_FORMAT, header\n",
      "TypeError: a bytes-like object is required, not 'str'\n"
     ]
    }
   ],
   "source": [
    "def cacheio():\n",
    "    sio = StringIO(\"a\" * 40)\n",
    "    nengo.utils.nco.read(sio)\n",
    "\n",
    "\n",
    "print_exc(cacheio)"
   ]
  },
  {
   "cell_type": "markdown",
   "metadata": {},
   "source": [
    "## Unconvertible"
   ]
  },
  {
   "cell_type": "code",
   "execution_count": 21,
   "metadata": {},
   "outputs": [
    {
     "name": "stderr",
     "output_type": "stream",
     "text": [
      "Traceback (most recent call last):\n",
      "  File \"<ipython-input-1-d59cc247948f>\", line 13, in print_exc\n",
      "    func()\n",
      "  File \"<ipython-input-21-389f0b51e578>\", line 5, in unconvertible\n",
      "    nengo.utils.builder.remove_passthrough_nodes(net.nodes, net.connections)\n",
      "  File \"/home/travis/build/nengo/nengo/nengo/utils/builder.py\", line 224, in remove_passthrough_nodes\n",
      "    \"Cannot remove a Node with a feedback connection\"\n",
      "nengo.exceptions.Unconvertible: Cannot remove a Node with a feedback connection\n"
     ]
    }
   ],
   "source": [
    "def unconvertible():\n",
    "    with nengo.Network() as net:\n",
    "        n = nengo.Node(output=None, size_in=1)\n",
    "        nengo.Connection(n, n, synapse=None)\n",
    "    nengo.utils.builder.remove_passthrough_nodes(net.nodes, net.connections)\n",
    "\n",
    "\n",
    "print_exc(unconvertible)"
   ]
  },
  {
   "cell_type": "markdown",
   "metadata": {},
   "source": [
    "## SignalError"
   ]
  },
  {
   "cell_type": "code",
   "execution_count": 22,
   "metadata": {},
   "outputs": [
    {
     "name": "stderr",
     "output_type": "stream",
     "text": [
      "Traceback (most recent call last):\n",
      "  File \"<ipython-input-1-d59cc247948f>\", line 13, in print_exc\n",
      "    func()\n",
      "  File \"<ipython-input-22-f076f40747ab>\", line 3, in signal\n",
      "    s.initial_value = 0\n",
      "  File \"/home/travis/build/nengo/nengo/nengo/builder/signal.py\", line 200, in initial_value\n",
      "    raise SignalError(\"Cannot change initial value after initialization\")\n",
      "nengo.exceptions.SignalError: Cannot change initial value after initialization\n"
     ]
    }
   ],
   "source": [
    "def signal():\n",
    "    s = nengo.builder.signal.Signal([1])\n",
    "    s.initial_value = 0\n",
    "\n",
    "\n",
    "print_exc(signal)"
   ]
  }
 ],
 "metadata": {
  "language_info": {
   "codemirror_mode": {
    "name": "ipython",
    "version": 3
   },
   "file_extension": ".py",
   "mimetype": "text/x-python",
   "name": "python",
   "nbconvert_exporter": "python",
   "pygments_lexer": "ipython3",
   "version": "3.6.7"
  }
 },
 "nbformat": 4,
 "nbformat_minor": 2
}
